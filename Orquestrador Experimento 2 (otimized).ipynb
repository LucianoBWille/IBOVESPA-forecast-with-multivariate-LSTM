{
 "cells": [
  {
   "cell_type": "markdown",
   "metadata": {},
   "source": [
    "# Orquestrador Experimento 1 (apenas dados do IBOVESPA)"
   ]
  },
  {
   "cell_type": "code",
   "execution_count": null,
   "metadata": {},
   "outputs": [],
   "source": [
    "import nbformat\n",
    "from nbconvert.preprocessors import ExecutePreprocessor\n",
    "import datetime\n",
    "import re\n",
    "import random"
   ]
  },
  {
   "cell_type": "markdown",
   "metadata": {},
   "source": [
    "Configurações gerais"
   ]
  },
  {
   "cell_type": "code",
   "execution_count": null,
   "metadata": {},
   "outputs": [
    {
     "name": "stdout",
     "output_type": "stream",
     "text": [
      "Random seed: 937\n"
     ]
    }
   ],
   "source": [
    "NOTEBOOK_FILE = 'Experiment_base.ipynb'\n",
    "INPUT_WINDOW_SIZE = 4\n",
    "OUTPUT_WINDOW_SIZE = 1\n",
    "MAX_EPOCHS = 500\n",
    "LEARNING_RATE = 1e-2 # 10**-6\n",
    "\n",
    "FILE = 'data/2 - processed/normalized_data_with_variation.csv'\n",
    "\n",
    "START_ON_FIRST_VALID_DATE = True\n",
    "TYPE_OF_UNIT = 'customDays' # \"days\", \"weeks\", \"months\", \"percentual\", \"customDays\"\n",
    "# csv have 7993 data rows\n",
    "TRAINING_SIZE = '1994-01-03' # 7493 # 7863 # 7593 # .9\n",
    "VALIDATION_SIZE = '2023-10-01' # 300 # 100 # 200 # .05\n",
    "TESTING_SIZE = '2024-10-01' # 200 # 30 # 200 # .05\n",
    "\n",
    "# seed\n",
    "RANDOM_SEED = random.randint(0, 1000) # 42 # 99\n",
    "print(f\"Random seed: {RANDOM_SEED}\")\n",
    "\n",
    "LOSS_FUNCTION = 'MAE' # 'MSE' # 'MAE'\n",
    "SAVE_FILE_PATH = 'results/experiment_2'"
   ]
  },
  {
   "cell_type": "code",
   "execution_count": null,
   "metadata": {},
   "outputs": [],
   "source": [
    "def get_COLUMNS_TO_USE(NUMBER_OF_SUB_EXPERIMENT):\n",
    "    # define columns to use and columns to predict\n",
    "    COLUMN_TO_PREDICT = 'IBOVESPA - Close'\n",
    "    if NUMBER_OF_SUB_EXPERIMENT == 1:\n",
    "        COLUMNS_TO_USE = ['IBOVESPA - Close', 'IBOVESPA - Close %', 'Dólar - Close', 'Dólar - Close %']\n",
    "    elif NUMBER_OF_SUB_EXPERIMENT == 2:\n",
    "        COLUMNS_TO_USE = ['IBOVESPA - Close', 'IBOVESPA - Close %', 'Dow Jones - Close', 'Dow Jones - Close %']\n",
    "    elif NUMBER_OF_SUB_EXPERIMENT == 3:\n",
    "        COLUMNS_TO_USE = ['IBOVESPA - Close', 'IBOVESPA - Close %', 'S&P 500 - Close', 'S&P 500 - Close %']\n",
    "    elif NUMBER_OF_SUB_EXPERIMENT == 4:\n",
    "        COLUMNS_TO_USE = ['IBOVESPA - Close', 'IBOVESPA - Close %', 'Nasdaq - Close', 'Nasdaq - Close %']\n",
    "    elif NUMBER_OF_SUB_EXPERIMENT == 5:\n",
    "        COLUMNS_TO_USE = ['IBOVESPA - Close', 'IBOVESPA - Close %', 'Shanghai SE - Close', 'Shanghai SE - Close %']\n",
    "    elif NUMBER_OF_SUB_EXPERIMENT == 6:\n",
    "        COLUMNS_TO_USE = ['IBOVESPA - Close', 'IBOVESPA - Close %', 'Nikkei - Close', 'Nikkei - Close %']\n",
    "    elif NUMBER_OF_SUB_EXPERIMENT == 7:\n",
    "        COLUMNS_TO_USE = ['IBOVESPA - Close', 'IBOVESPA - Close %', 'HanSeng Index - Close', 'HanSeng Index - Close %']\n",
    "    elif NUMBER_OF_SUB_EXPERIMENT == 8:\n",
    "        COLUMNS_TO_USE = ['IBOVESPA - Close', 'IBOVESPA - Close %', 'Kospi - Close', 'Kospi - Close %']\n",
    "    elif NUMBER_OF_SUB_EXPERIMENT == 9:\n",
    "        COLUMNS_TO_USE = ['IBOVESPA - Close', 'IBOVESPA - Close %', 'ASX 200 - Close', 'ASX 200 - Close %']\n",
    "    elif NUMBER_OF_SUB_EXPERIMENT == 10:\n",
    "        COLUMNS_TO_USE = ['IBOVESPA - Close', 'IBOVESPA - Close %', 'FTSE 100 - Close', 'FTSE 100 - Close %']\n",
    "    elif NUMBER_OF_SUB_EXPERIMENT == 11:\n",
    "        COLUMNS_TO_USE = ['IBOVESPA - Close', 'IBOVESPA - Close %', 'DAX - Close', 'DAX - Close %']\n",
    "    elif NUMBER_OF_SUB_EXPERIMENT == 12:\n",
    "        COLUMNS_TO_USE = ['IBOVESPA - Close', 'IBOVESPA - Close %', 'CAC 40 - Close', 'CAC 40 - Close %']\n",
    "    elif NUMBER_OF_SUB_EXPERIMENT == 13:\n",
    "        COLUMNS_TO_USE = ['IBOVESPA - Close', 'IBOVESPA - Close %', 'FTSE MIB - Close', 'FTSE MIB - Close %']\n",
    "    elif NUMBER_OF_SUB_EXPERIMENT == 14:\n",
    "        COLUMNS_TO_USE = ['IBOVESPA - Close', 'IBOVESPA - Close %', 'STOXX 600 - Close', 'STOXX 600 - Close %']\n",
    "    elif NUMBER_OF_SUB_EXPERIMENT == 15:\n",
    "        COLUMNS_TO_USE = ['IBOVESPA - Close', 'IBOVESPA - Close %', 'Petróleo WTI - Close', 'Petróleo WTI - Close %']\n",
    "    elif NUMBER_OF_SUB_EXPERIMENT == 16:\n",
    "        COLUMNS_TO_USE = ['IBOVESPA - Close', 'IBOVESPA - Close %', 'Petróleo Brent - Close', 'Petróleo Brent - Close %']\n",
    "    elif NUMBER_OF_SUB_EXPERIMENT == 17:\n",
    "        COLUMNS_TO_USE = ['IBOVESPA - Close', 'IBOVESPA - Close %', 'Minério de Ferro - Close', 'Minério de Ferro - Close %']\n",
    "    elif NUMBER_OF_SUB_EXPERIMENT == 18:\n",
    "        COLUMNS_TO_USE = ['IBOVESPA - Close', 'IBOVESPA - Close %', 'Bitcoin - Close', 'Bitcoin - Close %']\n",
    "    elif NUMBER_OF_SUB_EXPERIMENT == 19:\n",
    "        COLUMNS_TO_USE = ['IBOVESPA - Close', 'IBOVESPA - Close %', 'PIB', 'PIB %']\n",
    "    elif NUMBER_OF_SUB_EXPERIMENT == 20:\n",
    "        COLUMNS_TO_USE = ['IBOVESPA - Close', 'IBOVESPA - Close %', 'IPCA', 'IPCA %']\n",
    "    elif NUMBER_OF_SUB_EXPERIMENT == 21:\n",
    "        COLUMNS_TO_USE = ['IBOVESPA - Close', 'IBOVESPA - Close %', 'INPC', 'INPC %']\n",
    "    elif NUMBER_OF_SUB_EXPERIMENT == 22:\n",
    "        COLUMNS_TO_USE = ['IBOVESPA - Close', 'IBOVESPA - Close %', 'Meta Selic', 'Meta Selic %']\n",
    "    elif NUMBER_OF_SUB_EXPERIMENT == 23:\n",
    "        COLUMNS_TO_USE = ['IBOVESPA - Close', 'IBOVESPA - Close %', 'Taxa acumulada no período', 'Taxa acumulada no período %']\n",
    "    return COLUMNS_TO_USE, COLUMN_TO_PREDICT"
   ]
  },
  {
   "cell_type": "code",
   "execution_count": null,
   "metadata": {},
   "outputs": [],
   "source": [
    "def update_RUN_MOMENT(nb, RUN_MOMENT):\n",
    "    \"\"\"\n",
    "    Update the RUN_MOMENT variable in the notebook.\n",
    "    \"\"\"\n",
    "    nb.cells[4]['source'] = re.sub(\"RUN_MOMENT =.*?(?=\\n)\", f\"RUN_MOMENT = \\\"{RUN_MOMENT}\\\"\", nb.cells[4]['source'])\n",
    "\n",
    "def update_SUB_EXPERIMENT(nb, NUMBER_OF_SUB_EXPERIMENT):\n",
    "    \"\"\"\n",
    "    Update the NUMBER_OF_SUB_EXPERIMENTS variable in the notebook.\n",
    "    \"\"\"\n",
    "    nb.cells[4]['source'] = re.sub(\"NUMBER_OF_SUB_EXPERIMENT =.*?(?=\\n)\", f\"NUMBER_OF_SUB_EXPERIMENT = {NUMBER_OF_SUB_EXPERIMENT}\", nb.cells[4]['source'])\n",
    "    COLUMNS_TO_USE, COLUMN_TO_PREDICT = get_COLUMNS_TO_USE(NUMBER_OF_SUB_EXPERIMENT)\n",
    "    nb.cells[4]['source'] = re.sub(\"COLUMNS_TO_USE =.*?(?=\\n)\", f\"COLUMNS_TO_USE = {COLUMNS_TO_USE}\", nb.cells[4]['source'])\n",
    "    nb.cells[4]['source'] = re.sub(\"COLUMN_TO_PREDICT =.*?(?=\\n)\", f\"COLUMN_TO_PREDICT = '{COLUMN_TO_PREDICT}'\", nb.cells[4]['source'])\n",
    "\n",
    "def update_MODEL_TO_USE(nb, MODEL_TO_USE):\n",
    "    \"\"\"\n",
    "    Update the MODEL_TO_USE variable in the notebook.\n",
    "    \"\"\"\n",
    "    nb.cells[4]['source'] = re.sub(\"MODEL_TO_USE =.*?(?=\\n)\", f\"MODEL_TO_USE = {MODEL_TO_USE}\", nb.cells[4]['source'])\n",
    "\n",
    "def update_WINDOW_SIZE(nb, INPUT_WINDOW_SIZE, OUTPUT_WINDOW_SIZE):\n",
    "    \"\"\"\n",
    "    Update the INPUT_WINDOW_SIZE and OUTPUT_WINDOW_SIZE variable in the notebook.\n",
    "    \"\"\"\n",
    "    nb.cells[4]['source'] = re.sub(\"INPUT_WINDOW_SIZE =.*?(?=\\n)\", f\"INPUT_WINDOW_SIZE = {INPUT_WINDOW_SIZE}\", nb.cells[4]['source'])\n",
    "    nb.cells[4]['source'] = re.sub(\"OUTPUT_WINDOW_SIZE =.*?(?=\\n)\", f\"OUTPUT_WINDOW_SIZE = {OUTPUT_WINDOW_SIZE}\", nb.cells[4]['source'])\n",
    "\n",
    "def update_MAX_EPOCHS(nb, MAX_EPOCHS):\n",
    "    \"\"\"\n",
    "    Update the MAX_EPOCHS variable in the notebook.\n",
    "    \"\"\"\n",
    "    nb.cells[4]['source'] = re.sub(\"MAX_EPOCHS =.*?(?=\\n)\", f\"MAX_EPOCHS = {MAX_EPOCHS}\", nb.cells[4]['source'])\n",
    "    \n",
    "def update_LEARNING_RATE(nb, LEARNING_RATE):\n",
    "    \"\"\"\n",
    "    Update the LEARNING_RATE variable in the notebook.\n",
    "    \"\"\"\n",
    "    nb.cells[4]['source'] = re.sub(\"LEARNING_RATE =.*?(?=\\n)\", f\"LEARNING_RATE = {LEARNING_RATE}\", nb.cells[4]['source'])\n",
    "\n",
    "def update_DF_SIZEs(nb, TYPE_OF_UNIT, TRAINING_SIZE, VALIDATION_SIZE, TESTING_SIZE):\n",
    "    \"\"\"\n",
    "    Update the TYPE_OF_UNIT, TRAINING_SIZE, VALIDATION_SIZE and TESTING_SIZE variables in the notebook.\n",
    "    \"\"\"\n",
    "    nb.cells[4]['source'] = re.sub(\"TYPE_OF_UNIT =.*?(?=\\n)\", f\"TYPE_OF_UNIT = '{TYPE_OF_UNIT}'\", nb.cells[4]['source'])\n",
    "    if TYPE_OF_UNIT == 'customDays':\n",
    "        nb.cells[4]['source'] = re.sub(\"TRAINING_SIZE =.*?(?=\\n)\", f\"TRAINING_SIZE = '{TRAINING_SIZE}'\", nb.cells[4]['source'])\n",
    "        nb.cells[4]['source'] = re.sub(\"VALIDATION_SIZE =.*?(?=\\n)\", f\"VALIDATION_SIZE = '{VALIDATION_SIZE}'\", nb.cells[4]['source'])\n",
    "        nb.cells[4]['source'] = re.sub(\"TESTING_SIZE =.*?(?=\\n)\", f\"TESTING_SIZE = '{TESTING_SIZE}'\", nb.cells[4]['source'])\n",
    "    else:\n",
    "        nb.cells[4]['source'] = re.sub(\"TRAINING_SIZE =.*?(?=\\n)\", f\"TRAINING_SIZE = {TRAINING_SIZE}\", nb.cells[4]['source'])\n",
    "        nb.cells[4]['source'] = re.sub(\"VALIDATION_SIZE =.*?(?=\\n)\", f\"VALIDATION_SIZE = {VALIDATION_SIZE}\", nb.cells[4]['source'])\n",
    "        nb.cells[4]['source'] = re.sub(\"TESTING_SIZE =.*?(?=\\n)\", f\"TESTING_SIZE = {TESTING_SIZE}\", nb.cells[4]['source'])\n",
    "\n",
    "def update_RANDOM_SEED(nb, RANDOM_SEED):\n",
    "    \"\"\"\n",
    "    Update the RANDOM_SEED variable in the notebook.\n",
    "    \"\"\"\n",
    "    nb.cells[4]['source'] = re.sub(\"RANDOM_SEED =.*?(?=\\n)\", f\"RANDOM_SEED = {RANDOM_SEED}\", nb.cells[4]['source'])\n",
    "\n",
    "def update_LOSS_FUNCTION(nb, LOSS_FUNCTION):\n",
    "    \"\"\"\n",
    "    Update the LOSS_FUNCTION variable in the notebook.\n",
    "    \"\"\"\n",
    "    nb.cells[4]['source'] = re.sub(\"LOSS_FUNCTION =.*?(?=\\n)\", f\"LOSS_FUNCTION = '{LOSS_FUNCTION}'\", nb.cells[4]['source'])\n",
    "\n",
    "def update_SAVE_FILE_PATH(nb, SAVE_FILE_PATH):\n",
    "    \"\"\"\n",
    "    Update the SAVE_FILE_PATH variable in the notebook.\n",
    "    \"\"\"\n",
    "    nb.cells[4]['source'] = re.sub(\"SAVE_FILE_PATH =.*?(?=\\n)\", f\"SAVE_FILE_PATH = '{SAVE_FILE_PATH}'\", nb.cells[4]['source'])\n",
    "\n",
    "def update_START_ON_FIRST_VALID_DATE(nb, START_ON_FIRST_VALID_DATE):\n",
    "    \"\"\"\n",
    "    Update the START_ON_FIRST_VALID_DATE variable in the notebook.\n",
    "    \"\"\"\n",
    "    nb.cells[4]['source'] = re.sub(\"START_ON_FIRST_VALID_DATE =.*?(?=\\n)\", f\"START_ON_FIRST_VALID_DATE = {START_ON_FIRST_VALID_DATE}\", nb.cells[4]['source'])\n",
    "\n",
    "def update_FILE(nb, FILE):\n",
    "    \"\"\"\n",
    "    Update the FILE variable in the notebook.\n",
    "    \"\"\"\n",
    "    nb.cells[4]['source'] = re.sub(\"FILE =.*?(?=\\n)\", f\"FILE = '{FILE}'\", nb.cells[4]['source'])"
   ]
  },
  {
   "cell_type": "markdown",
   "metadata": {},
   "source": [
    "# Run Experiments"
   ]
  },
  {
   "cell_type": "code",
   "execution_count": null,
   "metadata": {},
   "outputs": [
    {
     "name": "stdout",
     "output_type": "stream",
     "text": [
      "RUN_MOMENT: 2025-04-14 19:57:48 - Sub: 4 - Model: 1\n"
     ]
    },
    {
     "name": "stderr",
     "output_type": "stream",
     "text": [
      "2025-04-14 19:57:51.211618: I tensorflow/core/platform/cpu_feature_guard.cc:210] This TensorFlow binary is optimized to use available CPU instructions in performance-critical operations.\n",
      "To enable the following instructions: SSE4.1 SSE4.2 AVX AVX2 FMA, in other operations, rebuild TensorFlow with the appropriate compiler flags.\n",
      "2025-04-14 19:58:21.917167: I tensorflow/core/framework/local_rendezvous.cc:405] Local rendezvous is aborting with status: OUT_OF_RANGE: End of sequence\n",
      "2025-04-14 19:58:22.124217: I tensorflow/core/framework/local_rendezvous.cc:405] Local rendezvous is aborting with status: OUT_OF_RANGE: End of sequence\n",
      "2025-04-14 19:58:27.231006: I tensorflow/core/framework/local_rendezvous.cc:405] Local rendezvous is aborting with status: OUT_OF_RANGE: End of sequence\n"
     ]
    },
    {
     "name": "stdout",
     "output_type": "stream",
     "text": [
      "RUN_MOMENT: 2025-04-14 19:58:32 - Sub: 4 - Model: 2\n"
     ]
    },
    {
     "name": "stderr",
     "output_type": "stream",
     "text": [
      "2025-04-14 19:58:35.011340: I tensorflow/core/platform/cpu_feature_guard.cc:210] This TensorFlow binary is optimized to use available CPU instructions in performance-critical operations.\n",
      "To enable the following instructions: SSE4.1 SSE4.2 AVX AVX2 FMA, in other operations, rebuild TensorFlow with the appropriate compiler flags.\n",
      "2025-04-14 19:59:11.238046: I tensorflow/core/framework/local_rendezvous.cc:405] Local rendezvous is aborting with status: OUT_OF_RANGE: End of sequence\n",
      "2025-04-14 19:59:11.451531: I tensorflow/core/framework/local_rendezvous.cc:405] Local rendezvous is aborting with status: OUT_OF_RANGE: End of sequence\n",
      "2025-04-14 19:59:17.328802: I tensorflow/core/framework/local_rendezvous.cc:405] Local rendezvous is aborting with status: OUT_OF_RANGE: End of sequence\n"
     ]
    },
    {
     "name": "stdout",
     "output_type": "stream",
     "text": [
      "RUN_MOMENT: 2025-04-14 19:59:25 - Sub: 4 - Model: 3\n"
     ]
    },
    {
     "name": "stderr",
     "output_type": "stream",
     "text": [
      "2025-04-14 19:59:27.519501: I tensorflow/core/platform/cpu_feature_guard.cc:210] This TensorFlow binary is optimized to use available CPU instructions in performance-critical operations.\n",
      "To enable the following instructions: SSE4.1 SSE4.2 AVX AVX2 FMA, in other operations, rebuild TensorFlow with the appropriate compiler flags.\n",
      "2025-04-14 19:59:57.141793: I tensorflow/core/framework/local_rendezvous.cc:405] Local rendezvous is aborting with status: OUT_OF_RANGE: End of sequence\n",
      "2025-04-14 19:59:57.365159: I tensorflow/core/framework/local_rendezvous.cc:405] Local rendezvous is aborting with status: OUT_OF_RANGE: End of sequence\n",
      "2025-04-14 20:00:01.153099: I tensorflow/core/framework/local_rendezvous.cc:405] Local rendezvous is aborting with status: OUT_OF_RANGE: End of sequence\n"
     ]
    },
    {
     "name": "stdout",
     "output_type": "stream",
     "text": [
      "RUN_MOMENT: 2025-04-14 20:00:05 - Sub: 5 - Model: 1\n"
     ]
    },
    {
     "name": "stderr",
     "output_type": "stream",
     "text": [
      "2025-04-14 20:00:07.343262: I tensorflow/core/platform/cpu_feature_guard.cc:210] This TensorFlow binary is optimized to use available CPU instructions in performance-critical operations.\n",
      "To enable the following instructions: SSE4.1 SSE4.2 AVX AVX2 FMA, in other operations, rebuild TensorFlow with the appropriate compiler flags.\n",
      "2025-04-14 20:00:37.999093: I tensorflow/core/framework/local_rendezvous.cc:405] Local rendezvous is aborting with status: OUT_OF_RANGE: End of sequence\n",
      "2025-04-14 20:00:38.211281: I tensorflow/core/framework/local_rendezvous.cc:405] Local rendezvous is aborting with status: OUT_OF_RANGE: End of sequence\n",
      "2025-04-14 20:00:42.352779: I tensorflow/core/framework/local_rendezvous.cc:405] Local rendezvous is aborting with status: OUT_OF_RANGE: End of sequence\n"
     ]
    },
    {
     "name": "stdout",
     "output_type": "stream",
     "text": [
      "RUN_MOMENT: 2025-04-14 20:00:46 - Sub: 5 - Model: 2\n"
     ]
    },
    {
     "name": "stderr",
     "output_type": "stream",
     "text": [
      "2025-04-14 20:00:48.441531: I tensorflow/core/platform/cpu_feature_guard.cc:210] This TensorFlow binary is optimized to use available CPU instructions in performance-critical operations.\n",
      "To enable the following instructions: SSE4.1 SSE4.2 AVX AVX2 FMA, in other operations, rebuild TensorFlow with the appropriate compiler flags.\n",
      "2025-04-14 20:01:18.938803: I tensorflow/core/framework/local_rendezvous.cc:405] Local rendezvous is aborting with status: OUT_OF_RANGE: End of sequence\n",
      "2025-04-14 20:01:19.156898: I tensorflow/core/framework/local_rendezvous.cc:405] Local rendezvous is aborting with status: OUT_OF_RANGE: End of sequence\n",
      "2025-04-14 20:01:22.850598: I tensorflow/core/framework/local_rendezvous.cc:405] Local rendezvous is aborting with status: OUT_OF_RANGE: End of sequence\n"
     ]
    },
    {
     "name": "stdout",
     "output_type": "stream",
     "text": [
      "RUN_MOMENT: 2025-04-14 20:01:27 - Sub: 5 - Model: 3\n"
     ]
    },
    {
     "name": "stderr",
     "output_type": "stream",
     "text": [
      "2025-04-14 20:01:29.544613: I tensorflow/core/platform/cpu_feature_guard.cc:210] This TensorFlow binary is optimized to use available CPU instructions in performance-critical operations.\n",
      "To enable the following instructions: SSE4.1 SSE4.2 AVX AVX2 FMA, in other operations, rebuild TensorFlow with the appropriate compiler flags.\n",
      "2025-04-14 20:02:04.322236: I tensorflow/core/framework/local_rendezvous.cc:405] Local rendezvous is aborting with status: OUT_OF_RANGE: End of sequence\n",
      "2025-04-14 20:02:04.517854: I tensorflow/core/framework/local_rendezvous.cc:405] Local rendezvous is aborting with status: OUT_OF_RANGE: End of sequence\n",
      "2025-04-14 20:02:08.338496: I tensorflow/core/framework/local_rendezvous.cc:405] Local rendezvous is aborting with status: OUT_OF_RANGE: End of sequence\n"
     ]
    },
    {
     "name": "stdout",
     "output_type": "stream",
     "text": [
      "RUN_MOMENT: 2025-04-14 20:02:13 - Sub: 6 - Model: 1\n"
     ]
    },
    {
     "name": "stderr",
     "output_type": "stream",
     "text": [
      "2025-04-14 20:02:16.901430: I tensorflow/core/platform/cpu_feature_guard.cc:210] This TensorFlow binary is optimized to use available CPU instructions in performance-critical operations.\n",
      "To enable the following instructions: SSE4.1 SSE4.2 AVX AVX2 FMA, in other operations, rebuild TensorFlow with the appropriate compiler flags.\n",
      "2025-04-14 20:02:43.913982: I tensorflow/core/framework/local_rendezvous.cc:405] Local rendezvous is aborting with status: OUT_OF_RANGE: End of sequence\n",
      "2025-04-14 20:02:44.131064: I tensorflow/core/framework/local_rendezvous.cc:405] Local rendezvous is aborting with status: OUT_OF_RANGE: End of sequence\n",
      "2025-04-14 20:02:48.695670: I tensorflow/core/framework/local_rendezvous.cc:405] Local rendezvous is aborting with status: OUT_OF_RANGE: End of sequence\n"
     ]
    },
    {
     "name": "stdout",
     "output_type": "stream",
     "text": [
      "RUN_MOMENT: 2025-04-14 20:02:53 - Sub: 6 - Model: 2\n"
     ]
    },
    {
     "name": "stderr",
     "output_type": "stream",
     "text": [
      "2025-04-14 20:02:55.090880: I tensorflow/core/platform/cpu_feature_guard.cc:210] This TensorFlow binary is optimized to use available CPU instructions in performance-critical operations.\n",
      "To enable the following instructions: SSE4.1 SSE4.2 AVX AVX2 FMA, in other operations, rebuild TensorFlow with the appropriate compiler flags.\n",
      "2025-04-14 20:03:25.286304: I tensorflow/core/framework/local_rendezvous.cc:405] Local rendezvous is aborting with status: OUT_OF_RANGE: End of sequence\n",
      "2025-04-14 20:03:25.498550: I tensorflow/core/framework/local_rendezvous.cc:405] Local rendezvous is aborting with status: OUT_OF_RANGE: End of sequence\n",
      "2025-04-14 20:03:29.219882: I tensorflow/core/framework/local_rendezvous.cc:405] Local rendezvous is aborting with status: OUT_OF_RANGE: End of sequence\n"
     ]
    },
    {
     "name": "stdout",
     "output_type": "stream",
     "text": [
      "RUN_MOMENT: 2025-04-14 20:03:34 - Sub: 6 - Model: 3\n"
     ]
    },
    {
     "name": "stderr",
     "output_type": "stream",
     "text": [
      "2025-04-14 20:03:36.845410: I tensorflow/core/platform/cpu_feature_guard.cc:210] This TensorFlow binary is optimized to use available CPU instructions in performance-critical operations.\n",
      "To enable the following instructions: SSE4.1 SSE4.2 AVX AVX2 FMA, in other operations, rebuild TensorFlow with the appropriate compiler flags.\n",
      "2025-04-14 20:04:10.767107: I tensorflow/core/framework/local_rendezvous.cc:405] Local rendezvous is aborting with status: OUT_OF_RANGE: End of sequence\n",
      "2025-04-14 20:04:11.017767: I tensorflow/core/framework/local_rendezvous.cc:405] Local rendezvous is aborting with status: OUT_OF_RANGE: End of sequence\n",
      "2025-04-14 20:04:15.653766: I tensorflow/core/framework/local_rendezvous.cc:405] Local rendezvous is aborting with status: OUT_OF_RANGE: End of sequence\n"
     ]
    },
    {
     "name": "stdout",
     "output_type": "stream",
     "text": [
      "RUN_MOMENT: 2025-04-14 20:04:20 - Sub: 7 - Model: 1\n"
     ]
    },
    {
     "name": "stderr",
     "output_type": "stream",
     "text": [
      "2025-04-14 20:04:22.724334: I tensorflow/core/platform/cpu_feature_guard.cc:210] This TensorFlow binary is optimized to use available CPU instructions in performance-critical operations.\n",
      "To enable the following instructions: SSE4.1 SSE4.2 AVX AVX2 FMA, in other operations, rebuild TensorFlow with the appropriate compiler flags.\n",
      "2025-04-14 20:05:10.412452: I tensorflow/core/framework/local_rendezvous.cc:405] Local rendezvous is aborting with status: OUT_OF_RANGE: End of sequence\n",
      "2025-04-14 20:05:10.644522: I tensorflow/core/framework/local_rendezvous.cc:405] Local rendezvous is aborting with status: OUT_OF_RANGE: End of sequence\n",
      "2025-04-14 20:05:15.042292: I tensorflow/core/framework/local_rendezvous.cc:405] Local rendezvous is aborting with status: OUT_OF_RANGE: End of sequence\n"
     ]
    },
    {
     "name": "stdout",
     "output_type": "stream",
     "text": [
      "RUN_MOMENT: 2025-04-14 20:05:20 - Sub: 7 - Model: 2\n"
     ]
    },
    {
     "name": "stderr",
     "output_type": "stream",
     "text": [
      "2025-04-14 20:05:22.715263: I tensorflow/core/platform/cpu_feature_guard.cc:210] This TensorFlow binary is optimized to use available CPU instructions in performance-critical operations.\n",
      "To enable the following instructions: SSE4.1 SSE4.2 AVX AVX2 FMA, in other operations, rebuild TensorFlow with the appropriate compiler flags.\n",
      "2025-04-14 20:06:27.577202: I tensorflow/core/framework/local_rendezvous.cc:405] Local rendezvous is aborting with status: OUT_OF_RANGE: End of sequence\n",
      "2025-04-14 20:06:27.805245: I tensorflow/core/framework/local_rendezvous.cc:405] Local rendezvous is aborting with status: OUT_OF_RANGE: End of sequence\n",
      "2025-04-14 20:06:31.696607: I tensorflow/core/framework/local_rendezvous.cc:405] Local rendezvous is aborting with status: OUT_OF_RANGE: End of sequence\n"
     ]
    },
    {
     "name": "stdout",
     "output_type": "stream",
     "text": [
      "RUN_MOMENT: 2025-04-14 20:06:36 - Sub: 7 - Model: 3\n"
     ]
    },
    {
     "name": "stderr",
     "output_type": "stream",
     "text": [
      "2025-04-14 20:06:38.948768: I tensorflow/core/platform/cpu_feature_guard.cc:210] This TensorFlow binary is optimized to use available CPU instructions in performance-critical operations.\n",
      "To enable the following instructions: SSE4.1 SSE4.2 AVX AVX2 FMA, in other operations, rebuild TensorFlow with the appropriate compiler flags.\n",
      "2025-04-14 20:08:03.244569: I tensorflow/core/framework/local_rendezvous.cc:405] Local rendezvous is aborting with status: OUT_OF_RANGE: End of sequence\n",
      "2025-04-14 20:08:03.448642: I tensorflow/core/framework/local_rendezvous.cc:405] Local rendezvous is aborting with status: OUT_OF_RANGE: End of sequence\n",
      "2025-04-14 20:08:07.527201: I tensorflow/core/framework/local_rendezvous.cc:405] Local rendezvous is aborting with status: OUT_OF_RANGE: End of sequence\n"
     ]
    },
    {
     "name": "stdout",
     "output_type": "stream",
     "text": [
      "RUN_MOMENT: 2025-04-14 20:08:11 - Sub: 8 - Model: 1\n"
     ]
    },
    {
     "name": "stderr",
     "output_type": "stream",
     "text": [
      "2025-04-14 20:08:14.063486: I tensorflow/core/platform/cpu_feature_guard.cc:210] This TensorFlow binary is optimized to use available CPU instructions in performance-critical operations.\n",
      "To enable the following instructions: SSE4.1 SSE4.2 AVX AVX2 FMA, in other operations, rebuild TensorFlow with the appropriate compiler flags.\n",
      "2025-04-14 20:09:26.152254: I tensorflow/core/framework/local_rendezvous.cc:405] Local rendezvous is aborting with status: OUT_OF_RANGE: End of sequence\n",
      "2025-04-14 20:09:26.358357: I tensorflow/core/framework/local_rendezvous.cc:405] Local rendezvous is aborting with status: OUT_OF_RANGE: End of sequence\n",
      "2025-04-14 20:09:30.021555: I tensorflow/core/framework/local_rendezvous.cc:405] Local rendezvous is aborting with status: OUT_OF_RANGE: End of sequence\n"
     ]
    },
    {
     "name": "stdout",
     "output_type": "stream",
     "text": [
      "RUN_MOMENT: 2025-04-14 20:09:34 - Sub: 8 - Model: 2\n"
     ]
    },
    {
     "name": "stderr",
     "output_type": "stream",
     "text": [
      "2025-04-14 20:09:36.601037: I tensorflow/core/platform/cpu_feature_guard.cc:210] This TensorFlow binary is optimized to use available CPU instructions in performance-critical operations.\n",
      "To enable the following instructions: SSE4.1 SSE4.2 AVX AVX2 FMA, in other operations, rebuild TensorFlow with the appropriate compiler flags.\n",
      "2025-04-14 20:11:42.782691: I tensorflow/core/framework/local_rendezvous.cc:405] Local rendezvous is aborting with status: OUT_OF_RANGE: End of sequence\n",
      "2025-04-14 20:11:42.982934: I tensorflow/core/framework/local_rendezvous.cc:405] Local rendezvous is aborting with status: OUT_OF_RANGE: End of sequence\n",
      "2025-04-14 20:11:48.056861: I tensorflow/core/framework/local_rendezvous.cc:405] Local rendezvous is aborting with status: OUT_OF_RANGE: End of sequence\n"
     ]
    },
    {
     "name": "stdout",
     "output_type": "stream",
     "text": [
      "RUN_MOMENT: 2025-04-14 20:11:53 - Sub: 8 - Model: 3\n"
     ]
    },
    {
     "name": "stderr",
     "output_type": "stream",
     "text": [
      "2025-04-14 20:11:55.590051: I tensorflow/core/platform/cpu_feature_guard.cc:210] This TensorFlow binary is optimized to use available CPU instructions in performance-critical operations.\n",
      "To enable the following instructions: SSE4.1 SSE4.2 AVX AVX2 FMA, in other operations, rebuild TensorFlow with the appropriate compiler flags.\n",
      "2025-04-14 20:12:51.406891: I tensorflow/core/framework/local_rendezvous.cc:405] Local rendezvous is aborting with status: OUT_OF_RANGE: End of sequence\n",
      "2025-04-14 20:12:51.713495: I tensorflow/core/framework/local_rendezvous.cc:405] Local rendezvous is aborting with status: OUT_OF_RANGE: End of sequence\n",
      "2025-04-14 20:12:55.761294: I tensorflow/core/framework/local_rendezvous.cc:405] Local rendezvous is aborting with status: OUT_OF_RANGE: End of sequence\n"
     ]
    },
    {
     "name": "stdout",
     "output_type": "stream",
     "text": [
      "RUN_MOMENT: 2025-04-14 20:13:00 - Sub: 9 - Model: 1\n"
     ]
    },
    {
     "name": "stderr",
     "output_type": "stream",
     "text": [
      "2025-04-14 20:13:02.004942: I tensorflow/core/platform/cpu_feature_guard.cc:210] This TensorFlow binary is optimized to use available CPU instructions in performance-critical operations.\n",
      "To enable the following instructions: SSE4.1 SSE4.2 AVX AVX2 FMA, in other operations, rebuild TensorFlow with the appropriate compiler flags.\n",
      "2025-04-14 20:13:47.718187: I tensorflow/core/framework/local_rendezvous.cc:405] Local rendezvous is aborting with status: OUT_OF_RANGE: End of sequence\n",
      "2025-04-14 20:13:47.909366: I tensorflow/core/framework/local_rendezvous.cc:405] Local rendezvous is aborting with status: OUT_OF_RANGE: End of sequence\n",
      "2025-04-14 20:13:51.914882: I tensorflow/core/framework/local_rendezvous.cc:405] Local rendezvous is aborting with status: OUT_OF_RANGE: End of sequence\n"
     ]
    },
    {
     "name": "stdout",
     "output_type": "stream",
     "text": [
      "RUN_MOMENT: 2025-04-14 20:13:55 - Sub: 9 - Model: 2\n"
     ]
    },
    {
     "name": "stderr",
     "output_type": "stream",
     "text": [
      "2025-04-14 20:13:58.008455: I tensorflow/core/platform/cpu_feature_guard.cc:210] This TensorFlow binary is optimized to use available CPU instructions in performance-critical operations.\n",
      "To enable the following instructions: SSE4.1 SSE4.2 AVX AVX2 FMA, in other operations, rebuild TensorFlow with the appropriate compiler flags.\n",
      "2025-04-14 20:14:46.253861: I tensorflow/core/framework/local_rendezvous.cc:405] Local rendezvous is aborting with status: OUT_OF_RANGE: End of sequence\n",
      "2025-04-14 20:14:46.466720: I tensorflow/core/framework/local_rendezvous.cc:405] Local rendezvous is aborting with status: OUT_OF_RANGE: End of sequence\n",
      "2025-04-14 20:14:50.627491: I tensorflow/core/framework/local_rendezvous.cc:405] Local rendezvous is aborting with status: OUT_OF_RANGE: End of sequence\n"
     ]
    },
    {
     "name": "stdout",
     "output_type": "stream",
     "text": [
      "RUN_MOMENT: 2025-04-14 20:14:55 - Sub: 9 - Model: 3\n"
     ]
    },
    {
     "name": "stderr",
     "output_type": "stream",
     "text": [
      "2025-04-14 20:14:57.040109: I tensorflow/core/platform/cpu_feature_guard.cc:210] This TensorFlow binary is optimized to use available CPU instructions in performance-critical operations.\n",
      "To enable the following instructions: SSE4.1 SSE4.2 AVX AVX2 FMA, in other operations, rebuild TensorFlow with the appropriate compiler flags.\n",
      "2025-04-14 20:15:58.766502: I tensorflow/core/framework/local_rendezvous.cc:405] Local rendezvous is aborting with status: OUT_OF_RANGE: End of sequence\n",
      "2025-04-14 20:15:58.965691: I tensorflow/core/framework/local_rendezvous.cc:405] Local rendezvous is aborting with status: OUT_OF_RANGE: End of sequence\n",
      "2025-04-14 20:16:02.797023: I tensorflow/core/framework/local_rendezvous.cc:405] Local rendezvous is aborting with status: OUT_OF_RANGE: End of sequence\n"
     ]
    }
   ],
   "source": [
    "for i in range(1, 4): # 1 to 3\n",
    "    RANDOM_SEED = random.randint(0, 1000) # 42 # 99\n",
    "    print(f\"Random seed: {RANDOM_SEED}\")\n",
    "    for sub in range(1, 24): # 1 to 23\n",
    "        NUMBER_OF_SUB_EXPERIMENT = sub\n",
    "        for model in range(1, 4): # 1 to 3\n",
    "            MODEL_TO_USE = model\n",
    "            RUN_MOMENT = datetime.datetime.now().strftime(\"%Y-%m-%d %H:%M:%S\")\n",
    "\n",
    "            print(f\"RUN_MOMENT: {RUN_MOMENT} - Sub: {NUMBER_OF_SUB_EXPERIMENT} - Model: {MODEL_TO_USE}\")\n",
    "\n",
    "            # Load the notebook\n",
    "            with open(NOTEBOOK_FILE) as f:\n",
    "                nb = nbformat.read(f, as_version=4)\n",
    "\n",
    "            # Config the notebook to use the correct kernel\n",
    "            ep = ExecutePreprocessor(kernel_name='ibovespa-env')\n",
    "\n",
    "            # Update the notebook with the new parameters\n",
    "            update_RUN_MOMENT(nb, RUN_MOMENT)\n",
    "            update_SUB_EXPERIMENT(nb, NUMBER_OF_SUB_EXPERIMENT)\n",
    "            update_MODEL_TO_USE(nb, MODEL_TO_USE)\n",
    "            update_WINDOW_SIZE(nb, INPUT_WINDOW_SIZE, OUTPUT_WINDOW_SIZE)\n",
    "            update_MAX_EPOCHS(nb, MAX_EPOCHS)\n",
    "            update_LEARNING_RATE(nb, LEARNING_RATE)\n",
    "            update_DF_SIZEs(nb, TYPE_OF_UNIT, TRAINING_SIZE, VALIDATION_SIZE, TESTING_SIZE)\n",
    "            update_RANDOM_SEED(nb, RANDOM_SEED)\n",
    "            update_LOSS_FUNCTION(nb, LOSS_FUNCTION)\n",
    "            update_SAVE_FILE_PATH(nb, SAVE_FILE_PATH)\n",
    "            update_START_ON_FIRST_VALID_DATE(nb, START_ON_FIRST_VALID_DATE)\n",
    "\n",
    "            # Execute the notebook\n",
    "            ep.preprocess(nb)\n",
    "\n",
    "            # Save the updated notebook\n",
    "            with open(f\"{SAVE_FILE_PATH}/notebooks/{RUN_MOMENT}-s{NUMBER_OF_SUB_EXPERIMENT}-m{MODEL_TO_USE}.ipynb\", 'w', encoding='utf-8') as f:\n",
    "                nbformat.write(nb, f)"
   ]
  }
 ],
 "metadata": {
  "kernelspec": {
   "display_name": "Python (ibovespa-env)",
   "language": "python",
   "name": "ibovespa-env"
  },
  "language_info": {
   "codemirror_mode": {
    "name": "ipython",
    "version": 3
   },
   "file_extension": ".py",
   "mimetype": "text/x-python",
   "name": "python",
   "nbconvert_exporter": "python",
   "pygments_lexer": "ipython3",
   "version": "3.12.7"
  }
 },
 "nbformat": 4,
 "nbformat_minor": 2
}
